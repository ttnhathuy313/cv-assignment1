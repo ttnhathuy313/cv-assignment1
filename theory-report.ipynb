{
 "cells": [
  {
   "cell_type": "code",
   "execution_count": 1,
   "id": "1cf6e43a",
   "metadata": {},
   "outputs": [],
   "source": [
    "### Import libraries\n",
    "\n",
    "import numpy as np\n",
    "import math\n",
    "from numpy.linalg import inv"
   ]
  },
  {
   "cell_type": "code",
   "execution_count": 2,
   "id": "ef5b1abf",
   "metadata": {},
   "outputs": [],
   "source": [
    "# the object coordinates as seen by the camera\n",
    "T_cam_obj = np.array([[0, 1,  0,  1],\n",
    "                      [1, 0,  0, 10],\n",
    "                      [0, 0, -1,  9],\n",
    "                      [0, 0,  0,  1]])\n",
    "\n",
    "# the origin of the robot base coordinates as seen by the camera\n",
    "T_cam_base = np.array([[1,  0,  0, -10],\n",
    "                       [0, -1,  0,  20],\n",
    "                       [0,  0, -1,  10],\n",
    "                       [0,  0,  0,   1]])"
   ]
  },
  {
   "cell_type": "markdown",
   "id": "bce7144c",
   "metadata": {},
   "source": [
    "#### Part (a) \n",
    "\n",
    "After the equipment has been set up and these coordinate systems have been established, someone rotated the camera $90^\\circ$ about the $z$-axis of the camera. What is the position and orientation of the camera with respect to the robot’s base coordinate system?"
   ]
  },
  {
   "cell_type": "markdown",
   "id": "8f79053c",
   "metadata": {},
   "source": [
    "We can get the homogeneous transformation matrix $T^{base}_{cam}$ expressing the camera as seen by the origin of the robot base by getting the inverse of the matrix $T^{cam}_{base}$:"
   ]
  },
  {
   "cell_type": "code",
   "execution_count": 3,
   "id": "70dc5fef",
   "metadata": {},
   "outputs": [
    {
     "name": "stdout",
     "output_type": "stream",
     "text": [
      "[[ 1.  0.  0. 10.]\n",
      " [-0. -1. -0. 20.]\n",
      " [-0. -0. -1. 10.]\n",
      " [ 0.  0.  0.  1.]]\n"
     ]
    }
   ],
   "source": [
    "## The original camera coordinate as seen by the base coordinate of the robot\n",
    "\n",
    "T_base_cam = inv(T_cam_base)\n",
    "print(T_base_cam)"
   ]
  },
  {
   "cell_type": "markdown",
   "id": "03fd18a9",
   "metadata": {},
   "source": [
    "Next, we initialize an independent homogeneous rotation of $90^\\circ$ about the $z$-axis matrix:"
   ]
  },
  {
   "cell_type": "code",
   "execution_count": 5,
   "id": "6911668a",
   "metadata": {},
   "outputs": [
    {
     "name": "stdout",
     "output_type": "stream",
     "text": [
      "[[ 0. -1.  0.  0.]\n",
      " [ 1.  0.  0.  0.]\n",
      " [ 0.  0.  1.  0.]\n",
      " [ 0.  0.  0.  1.]]\n"
     ]
    }
   ],
   "source": [
    "## Init an independent homogeneous rotation matrix\n",
    "\n",
    "rot_z = lambda gamma : np.array([[round(math.cos(gamma),2), round(-math.sin(gamma),2), 0, 0],\n",
    "                                 [round(math.sin(gamma),2),  round(math.cos(gamma),2), 0, 0],\n",
    "                                 [                       0,                         0, 1, 0],\n",
    "                                 [                       0,                         0, 0, 1]])\n",
    "\n",
    "rot_z_90 = rot_z(math.pi/2)\n",
    "print(rot_z_90)"
   ]
  },
  {
   "cell_type": "markdown",
   "id": "fd8a9366",
   "metadata": {},
   "source": [
    "To find the position and orientation of the camera with respect to the robot's base coordinate system after the $90^\\circ$-about-$z$-axis rotation of the camera, we need to find the corresponding homogeneous transformation matrix. \n",
    "    \n",
    "It is worth noting that as we treat the robot's base coordinate system as the base, we can easily reach our goal by applying the dot product on 2 matrices $T^{base}_{cam}$ and $R^z_{90}$. Because, indeed, from the point of view of the robot base, it is all about the displacement of the camera."
   ]
  },
  {
   "cell_type": "code",
   "execution_count": 6,
   "id": "2298f9c3",
   "metadata": {},
   "outputs": [
    {
     "name": "stdout",
     "output_type": "stream",
     "text": [
      "[[ 0. -1.  0. 10.]\n",
      " [-1.  0.  0. 20.]\n",
      " [ 0.  0. -1. 10.]\n",
      " [ 0.  0.  0.  1.]]\n"
     ]
    }
   ],
   "source": [
    "# The coordinate of the camera in new position as seen by the robot’s base coordinate\n",
    "\n",
    "T_base_newCam = np.dot(T_base_cam, rot_z_90)\n",
    "print(T_base_newCam)"
   ]
  },
  {
   "cell_type": "markdown",
   "id": "93d87d26",
   "metadata": {},
   "source": [
    "The position and orientation of **the camera with respect to the robot's base coordinate system** respectively are:\n",
    "$\\begin{bmatrix}\n",
    "    10 \\\\ 20 \\\\ 10\n",
    "    \\end{bmatrix}$ and $\\begin{bmatrix}\n",
    "    0 & -1 & 0\\\\\n",
    "    -1 & 0 & 0\\\\\n",
    "    0 & 0 & -1\n",
    "\\end{bmatrix}$"
   ]
  },
  {
   "cell_type": "markdown",
   "id": "99c2073a",
   "metadata": {},
   "source": [
    "#### Part (b) \n",
    "\n",
    "After the rotation happened in a), the object is also rotated by $90^\\circ$ about the $x$-axis of the object and translated by 4 units along the rotated $y$-axis. What is the position and orientation of the object with respect to the robot’s base coordinate system? What is the position and orientation of the object with respect to the rotated camera coordinate system?"
   ]
  },
  {
   "cell_type": "markdown",
   "id": "ae351eaa",
   "metadata": {},
   "source": [
    "First, initialize an independent homogeneous rotation of $90^\\circ$ about $x$-axis matrix $R^x_{90}$ and the translation by 4 units along the $y$-axis. Together, we obtain a matrix $H$ expressing all the transformations:"
   ]
  },
  {
   "cell_type": "code",
   "execution_count": 7,
   "id": "865e1433",
   "metadata": {},
   "outputs": [
    {
     "name": "stdout",
     "output_type": "stream",
     "text": [
      "[[ 1  0  0  0]\n",
      " [ 0  0 -1  0]\n",
      " [ 0  1  0  4]\n",
      " [ 0  0  0  1]]\n"
     ]
    }
   ],
   "source": [
    "rot_x_90 = np.array([[1,0,0,0],\n",
    "                     [0, round(math.cos(math.pi/2)), round(-math.sin(math.pi/2)), 0],\n",
    "                     [0, round(math.sin(math.pi/2)), round(math.cos(math.pi/2)), 0],\n",
    "                     [0,0,0,1]])\n",
    "\n",
    "trans_4_y = np.array([[1,0,0,0],\n",
    "                      [0,1,0,4],\n",
    "                      [0,0,1,0],\n",
    "                      [0,0,0,1]])\n",
    "\n",
    "H_obj = np.dot(rot_x_90, trans_4_y)\n",
    "\n",
    "print(H_obj)"
   ]
  },
  {
   "cell_type": "markdown",
   "id": "23d9b36c",
   "metadata": {},
   "source": [
    "With a similar argument as part (a), we have:"
   ]
  },
  {
   "cell_type": "code",
   "execution_count": 8,
   "id": "86d53230",
   "metadata": {},
   "outputs": [
    {
     "name": "stdout",
     "output_type": "stream",
     "text": [
      "[[ 0.  0. -1. 11.]\n",
      " [-1.  0.  0. 10.]\n",
      " [ 0.  1.  0.  5.]\n",
      " [ 0.  0.  0.  1.]]\n"
     ]
    }
   ],
   "source": [
    "T_base_obj = np.dot(T_base_cam, T_cam_obj)\n",
    "T_base_newObj = np.dot(T_base_obj, H_obj)\n",
    "print(T_base_newObj)"
   ]
  },
  {
   "cell_type": "markdown",
   "id": "4f5e033a",
   "metadata": {},
   "source": [
    "The position and orientation of **the object with respect to the robot’s base coordinate system** respectively are:\n",
    "    $\\begin{bmatrix}\n",
    "    11 \\\\ 10 \\\\ 5\n",
    "    \\end{bmatrix}$ and $\\begin{bmatrix}\n",
    "    0 & 0 & -1\\\\\n",
    "    -1 & 0 & 0\\\\\n",
    "    0 & 1 & 0\n",
    "    \\end{bmatrix}$"
   ]
  },
  {
   "cell_type": "code",
   "execution_count": 9,
   "id": "1b99bbda",
   "metadata": {},
   "outputs": [
    {
     "name": "stdout",
     "output_type": "stream",
     "text": [
      "[[ 1.  0.  0. 10.]\n",
      " [ 0.  0.  1. -1.]\n",
      " [ 0. -1.  0.  5.]\n",
      " [ 0.  0.  0.  1.]]\n"
     ]
    }
   ],
   "source": [
    "T_newCam_base = inv(T_base_newCam)\n",
    "T_newCam_newObj = np.dot(T_newCam_base, T_base_newObj)\n",
    "print(T_newCam_newObj)"
   ]
  },
  {
   "cell_type": "markdown",
   "id": "e6ab023f",
   "metadata": {},
   "source": [
    "The position and orientation of **the object with respect to the rotated camera coordinate system** respectively are:\n",
    "    \n",
    "$\\begin{bmatrix}\n",
    "    10 \\\\ -1 \\\\ 5\n",
    "    \\end{bmatrix}$ and $\\begin{bmatrix}\n",
    "    1 & 0 & 0\\\\\n",
    "    0 & 0 & 1\\\\\n",
    "    0 & -1 & 0\n",
    "\\end{bmatrix}$"
   ]
  }
 ],
 "metadata": {
  "kernelspec": {
   "display_name": "eng301-computer-vision",
   "language": "python",
   "name": "eng301-computer-vision"
  },
  "language_info": {
   "codemirror_mode": {
    "name": "ipython",
    "version": 3
   },
   "file_extension": ".py",
   "mimetype": "text/x-python",
   "name": "python",
   "nbconvert_exporter": "python",
   "pygments_lexer": "ipython3",
   "version": "3.9.16"
  }
 },
 "nbformat": 4,
 "nbformat_minor": 5
}
